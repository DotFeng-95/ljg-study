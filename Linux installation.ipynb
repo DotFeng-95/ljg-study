{
 "cells": [
  {
   "cell_type": "markdown",
   "metadata": {},
   "source": [
    "## Linux系统安装和文件配置"
   ]
  },
  {
   "cell_type": "markdown",
   "metadata": {},
   "source": [
    "#### Linux安装\n",
    "1. 将ubuntu的启动盘插在电脑上，重启电脑，开机时按相应的启动键进入Boot。\n",
    "2. install ubuntu\n",
    "3. 不选择安装第三方软件\n",
    "4. 安装类型选择其他\n",
    "5. 分区设置\n",
    "6. 地点选择上海\n",
    "7. 选择美国键盘\n",
    "8. 进入用户设置，自行设置用户名和密码\n",
    "9. 进入安装界面，等待安装成功后，重启电脑。"
   ]
  },
  {
   "cell_type": "markdown",
   "metadata": {},
   "source": [
    "#### 分区\n",
    "1. boot$\\qquad$4G/8G\n",
    "2. swap area$\\quad$10G/20G\n",
    "3. /opt$\\qquad$100G\n",
    "4. / 根目录$\\quad$100G\n",
    "5. Home$\\qquad$剩余"
   ]
  },
  {
   "cell_type": "markdown",
   "metadata": {},
   "source": [
    "#### 配置搜狗输入法\n",
    "1. cd software/\n",
    "2. sudo dpkg -i sogoupinyin_2.1.0.0082_amd64\n",
    "3. 出现错误：换源 system setting$\\rightarrow$software update$\\rightarrow$Main server\n",
    "4. sudo apt-get update\n",
    "5. sudo apt-get install -f\n",
    "6. sudo dpkg -i sogoupinyin_2.1.0.0082_amd64"
   ]
  },
  {
   "cell_type": "markdown",
   "metadata": {},
   "source": [
    "#### 配置ubuntu文件\n",
    "1. sudo chmod 777 ubuntu_install\n",
    "2. sudo ./ ubuntu_install"
   ]
  },
  {
   "cell_type": "markdown",
   "metadata": {},
   "source": [
    "#### 联网\n",
    "1. sudo mentohust(联网)\n",
    "2. sudo mentohust -k(断网)\n",
    "3. sudo mentohust -b1(后台运行)\n",
    "4. sudo rm /etc/mentohust.conf(重新配置)"
   ]
  },
  {
   "cell_type": "markdown",
   "metadata": {},
   "source": [
    "#### 谷歌访问助手\n",
    "More tools$\\rightarrow$Extensions$\\rightarrow$把谷歌访问助手拖进去$\\rightarrow$设置主页"
   ]
  },
  {
   "cell_type": "markdown",
   "metadata": {},
   "source": [
    "#### 火狐浏览器\n",
    "Preferences$\\rightarrow$www.bing.com$\\rightarrow$关掉"
   ]
  },
  {
   "cell_type": "markdown",
   "metadata": {},
   "source": [
    "#### 双系统分区\n",
    "1. boot$\\qquad$4G/8G\n",
    "2. swap area$\\quad$10G\n",
    "3. /opt$\\qquad$30G\n",
    "4. / 根目录$\\quad$50G\n",
    "5. Home$\\qquad$剩余"
   ]
  },
  {
   "cell_type": "markdown",
   "metadata": {
    "collapsed": true
   },
   "source": [
    "#### 安装LaTex\n",
    "sudo apt-get install texlive-full(如果出现报错可以先执行sudo apt-get update进行更新)  \n",
    "sudo apt-get install texmaker"
   ]
  },
  {
   "cell_type": "markdown",
   "metadata": {},
   "source": [
    "#### 在浏览器里显示上网认证界面：  \n",
    "sudo gedit /etc/resolvconf/resolv.conf.d/head  \n",
    "在后面添加：  \n",
    "nameserver 8.8.8.8  \n",
    "nameserver 8.8.4.4  \n",
    "保存"
   ]
  },
  {
   "cell_type": "markdown",
   "metadata": {
    "collapsed": true
   },
   "source": [
    "#### 出现两个搜狗输入法框解决  \n",
    "sudo apt-get purge fcitx-ui-qimpanel"
   ]
  },
  {
   "cell_type": "code",
   "execution_count": null,
   "metadata": {
    "collapsed": true
   },
   "outputs": [],
   "source": []
  }
 ],
 "metadata": {
  "kernelspec": {
   "display_name": "Python 3",
   "language": "python",
   "name": "python3"
  },
  "language_info": {
   "codemirror_mode": {
    "name": "ipython",
    "version": 3
   },
   "file_extension": ".py",
   "mimetype": "text/x-python",
   "name": "python",
   "nbconvert_exporter": "python",
   "pygments_lexer": "ipython3",
   "version": "3.6.1"
  }
 },
 "nbformat": 4,
 "nbformat_minor": 2
}
