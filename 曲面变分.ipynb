{
 "cells": [
  {
   "cell_type": "markdown",
   "metadata": {},
   "source": [
    "1.曲面的参数表示\n",
    "\n",
    "如果从平面区域$\\mathcal{\\Omega}=\\{[u,v]^T\\}\\subset\\mathbb{R}^2$到$\\mathbb{R}^3$的映射\n",
    "\n",
    "$$\n",
    "\\boldsymbol{x}(u,v)=[x(u,v),y(u,v),z(u,v)]^T\n",
    "$$\n",
    "\n",
    "满足\n",
    "\n",
    "(1)每个分量函数都是充分光滑的，  \n",
    "\n",
    "(2)向量$\\boldsymbol{x}_u=\\frac{\\partial\\boldsymbol{x}}{\\partial u}$与向量$\\boldsymbol{x}_v=\\frac{\\partial\\boldsymbol{x}}{\\partial v}$线性无关\n",
    "\n",
    "则称集合$\\mathcal{S}=\\{\\boldsymbol{x}(u,v):[u,v]^T\\in\\mathcal{\\Omega}\\}$是$\\mathbb{R}^3$中的一个曲面，$(u,v)$称为曲面的参数."
   ]
  },
  {
   "cell_type": "markdown",
   "metadata": {},
   "source": [
    "2.曲面的变分\n",
    "\n",
    "2.1 全变分\n",
    "\n",
    "设$\\mathcal{S}$为一定义在$\\mathcal{\\Omega}$上的光滑参数曲面,对于定义在$\\mathcal{S}$上的$\\mathbb{R}^3$中的向量值函数$\\boldsymbol{f}$和$\\boldsymbol{g}$,定义内积\n",
    "\n",
    "$$\n",
    "(\\boldsymbol{f},\\boldsymbol{g})=\\int_{\\mathcal{\\Omega}}<\\boldsymbol{f},\\boldsymbol{g}>\\mathrm{d}A.\n",
    "$$\n",
    "\n",
    "假定所考虑的函数在$\\mathcal{S}$上是连续的.那么在上述内积意义下,所有这样的函数的全体构成一Hilbert空间,记为$H(\\mathcal{S})$.显然,$H(\\mathcal{S})\\subset L^2(\\mathcal{S})$.设\n",
    "\n",
    "$$\n",
    "\\mathcal{E}(\\mathcal{S})=\\int_{\\mathcal{S}}F(\\boldsymbol{x},\\boldsymbol{x}_u,\\boldsymbol{x}_v,\\boldsymbol{x}_{uu},\\boldsymbol{x}_{uv},\\boldsymbol{x}_{vv},\\cdots)\\mathrm{d}A\n",
    "$$\n",
    "\n",
    "为给定的某一能量泛函，其中,$\\cdots$为可能出现的$\\boldsymbol{x}$的二阶以上的偏导数.设\n",
    "\n",
    "$$\n",
    "\\mathcal{S}_{\\varepsilon}=\\{\\boldsymbol{x}_{\\varepsilon}=\\boldsymbol{x}+\\varepsilon\\mathcal{\\Theta}:\\boldsymbol{x}\\in\\mathcal{S}\\},\\quad\\mathcal{\\Theta}\\in C_0^{\\infty}(\\mathcal{S})^3\n",
    "$$\n",
    "\n",
    "那么\n",
    "\n",
    "$$\n",
    "\\begin{aligned}\n",
    "\\delta(\\mathcal{E}(\\mathcal{S}),\\mathcal{\\Theta})&=\\frac{\\mathrm{d}\\left[\\int_{\\mathcal{S}_{\\varepsilon}}F(\\boldsymbol{x}+\\varepsilon\\mathcal{\\Theta},\\boldsymbol{x}_u+\\varepsilon\\mathcal{\\Theta}_u,\\boldsymbol{x}_v+\\varepsilon\\mathcal{\\Theta}_v,\\boldsymbol{x}_{uu}+\\varepsilon\\mathcal{\\Theta}_{uu},\\cdots)\\mathrm{d}A\\right]}{\\mathrm{d}\\varepsilon}\\bigg|_{\\varepsilon=0}\\\\\n",
    "&=\\int_{\\mathcal{S}}\\left[(\\nabla_{\\boldsymbol{x}}F)^T\\mathcal{\\Theta}+(\\nabla_{\\boldsymbol{x}_u}F)^T\\mathcal{\\Theta}_u+(\\nabla_{\\boldsymbol{x}_v}F)^T\\mathcal{\\Theta}_v\\right]\\mathrm{d}A\\\\\n",
    "&+\\int_{\\mathcal{S}}\\left[(\\nabla_{\\boldsymbol{x}_{uu}}F)^T\\mathcal{\\Theta}_{uu}+(\\nabla_{\\boldsymbol{x}_{uv}}F)^T\\mathcal{\\Theta}_{uv}+(\\nabla_{\\boldsymbol{x}_{vv}}F)^T\\mathcal{\\Theta}_{vv}+\\cdots\\right]\\mathrm{d}A\\\\\n",
    "&+\\int_{\\mathcal{S}}\\left[Ftr\\left[(\\nabla_{\\mathcal{S}}\\boldsymbol{x}^T)\\nabla_{\\mathcal{S}}\\mathcal{\\Theta}\\right]\\right]\\mathrm{d}A\n",
    "\\end{aligned}\n",
    "$$"
   ]
  },
  {
   "cell_type": "markdown",
   "metadata": {},
   "source": [
    "其中,$\\nabla_{\\boldsymbol{x}_u}F$和$\\nabla_{\\boldsymbol{x}_v}F$分别代表$F$关于$\\boldsymbol{x}_u$和$\\boldsymbol{x}_v$的梯度等.因此,$\\delta(\\mathcal{E}(\\mathcal{S}),\\mathcal{\\Theta})$是一个定义在$H(\\mathcal{S})$上的线性泛函。由Riesz定理,存在一$H(\\mathcal{S})$\n",
    "中的元素,记其为$\\mathcal{E}_c(\\mathcal{S})$,使得\n",
    "\n",
    "$$\n",
    "\\delta(\\mathcal{E}(\\mathcal{S}),\\mathcal{\\Theta})=\\int_{\\mathcal{S}}<\\mathcal{E}_c(\\mathcal{S}),\\mathcal{\\Theta}>\\mathrm{d}A\n",
    "$$\n",
    "\n",
    "其中,$\\delta(\\mathcal{E}(\\mathcal{S}),\\mathcal{\\Theta})$称为$\\mathcal{E}(\\mathcal{S})$的一阶全变分,"
   ]
  },
  {
   "cell_type": "markdown",
   "metadata": {
    "collapsed": true
   },
   "source": [
    "2.2 法向变分\n",
    "\n",
    "设$\\mathcal{S}$为一定义在$\\mathcal{\\Omega}$上的光滑参数曲面，对于定义在$\\mathcal{S}$上的标量值函数$f$和$g$,定义内积\n",
    "\n",
    "$$\n",
    "(f,g)=\\int_{\\mathcal{S}}fg\\mathrm{d}A\n",
    "$$\n",
    "\n",
    "假定所考虑的函数在$\\mathcal{S}$上是连续的.那么在上述内积意义下,所有这样的函数的全体构成一Hilbert空间,记为$H(\\mathcal{S})$.显然,$H(\\mathcal{S})\\subset L^2(\\mathcal{S})$.设\n",
    "\n",
    "$$\n",
    "\\mathcal{S}_{\\varepsilon}=\\{\\boldsymbol{x}_{\\varepsilon}=\\boldsymbol{x}+\\varepsilon\\theta\\boldsymbol{n}:\\boldsymbol{x}\\in\\mathcal{S}\\},\\quad\\theta\\in C_0^{\\infty}(\\mathcal{S})^3\n",
    "$$"
   ]
  },
  {
   "cell_type": "markdown",
   "metadata": {
    "collapsed": true
   },
   "source": [
    "那么\n",
    "\n",
    "$$\n",
    "\\begin{aligned}\n",
    "\\delta(\\mathcal{E}(\\mathcal{S}),\\mathcal{\\Theta})&=\\frac{\\mathrm{d}\\left[\\int_{\\mathcal{S}_{\\varepsilon}}F(\\boldsymbol{x}+\\varepsilon(\\theta\\boldsymbol{n}),\\boldsymbol{x}_u+\\varepsilon(\\theta\\boldsymbol{n})_u,\\boldsymbol{x}_v+\\varepsilon(\\theta\\boldsymbol{n})_v,\\boldsymbol{x}_{uu}+\\varepsilon(\\theta\\boldsymbol{n})_{uu},\\cdots)\\mathrm{d}A\\right]}{\\mathrm{d}\\varepsilon}\\bigg|_{\\varepsilon=0}\\\\\n",
    "&=\\int_{\\mathcal{S}}\\left[(\\nabla_{\\boldsymbol{x}}F)^T(\\theta\\boldsymbol{n})+(\\nabla_{\\boldsymbol{x}_u}F)^T(\\theta\\boldsymbol{n})_u+(\\nabla_{\\boldsymbol{x}_v}F)^T(\\theta\\boldsymbol{n})_v\\right]\\mathrm{d}A\\\\\n",
    "&+\\int_{\\mathcal{S}}\\left[(\\nabla_{\\boldsymbol{x}_{uu}}F)^T(\\theta\\boldsymbol{n})_{uu}+(\\nabla_{\\boldsymbol{x}_{uv}}F)^T(\\theta\\boldsymbol{n}){uv}+(\\nabla_{\\boldsymbol{x}_{vv}}F)^T(\\theta\\boldsymbol{n})_{vv}+\\cdots\\right]\\mathrm{d}A\\\\\n",
    "&+\\int_{\\mathcal{S}}\\left[Ftr\\left[(\\nabla_{\\mathcal{S}}\\boldsymbol{x}^T)\\nabla_{\\mathcal{S}}(\\theta\\boldsymbol{n})\\right]\\right]\\mathrm{d}A\n",
    "\\end{aligned}\n",
    "$$"
   ]
  },
  {
   "cell_type": "markdown",
   "metadata": {
    "collapsed": true
   },
   "source": [
    "因此,$\\delta(\\mathcal{E}(\\mathcal{S}),\\mathcal{\\Theta})$是一个定义在$H(\\mathcal{S})$上的线性泛函。由Riesz定理,存在一$H(\\mathcal{S})$\n",
    "中的元素,记其为$\\mathcal{E}_n(\\mathcal{S})$,使得\n",
    "\n",
    "$$\n",
    "\\delta(\\mathcal{E}(\\mathcal{S}),\\mathcal{\\Theta})=\\int_{\\mathcal{S}}\\mathcal{E}_n(\\mathcal{S})\\theta\\mathrm{d}A\n",
    "$$\n",
    "\n",
    "其中,$\\delta(\\mathcal{E}(\\mathcal{S}),\\mathcal{\\Theta})$称为$\\mathcal{E}(\\mathcal{S})$的一阶法向变分,"
   ]
  },
  {
   "cell_type": "code",
   "execution_count": null,
   "metadata": {
    "collapsed": true
   },
   "outputs": [],
   "source": []
  }
 ],
 "metadata": {
  "kernelspec": {
   "display_name": "Python 3",
   "language": "python",
   "name": "python3"
  },
  "language_info": {
   "codemirror_mode": {
    "name": "ipython",
    "version": 3
   },
   "file_extension": ".py",
   "mimetype": "text/x-python",
   "name": "python",
   "nbconvert_exporter": "python",
   "pygments_lexer": "ipython3",
   "version": "3.6.1"
  }
 },
 "nbformat": 4,
 "nbformat_minor": 2
}
