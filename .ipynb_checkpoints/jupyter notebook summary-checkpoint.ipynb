{
 "cells": [
  {
   "cell_type": "markdown",
   "metadata": {},
   "source": [
    "jupyter notebook中给长公式起别名，为了打方式方便。"
   ]
  },
  {
   "cell_type": "markdown",
   "metadata": {},
   "source": [
    "+ 示例：\n",
    "$\\newcommand{\\norm}[1] {\\left\\| #1 \\right\\|}$\n",
    "$\\newcommand{\\abs}[1] { \\left| #1 \\right|}$"
   ]
  },
  {
   "cell_type": "markdown",
   "metadata": {},
   "source": [
    "$$\\norm{A}$$\n",
    "\n",
    "$$\\abs{A}$$"
   ]
  },
  {
   "cell_type": "markdown",
   "metadata": {},
   "source": [
    "+ 公式等号对齐\n",
    "$$\n",
    "\\begin{aligned}\n",
    "(x+y)^2 =& x^2 + 2xy + y^2 \\\\\n",
    "=& y^2 + 2yx + x^2\n",
    "\\end{aligned}\n",
    "$$"
   ]
  },
  {
   "cell_type": "markdown",
   "metadata": {},
   "source": [
    "+ 两种求和上下标对齐方式\n",
    "\n",
    "$$\n",
    "\\sum\\nolimits_{n=0}^{\\infty}n^2\n",
    "$$\n",
    "\n",
    "$$\n",
    "\\sum\\limits_{n=0}^{\\infty}n^2\n",
    "$$"
   ]
  },
  {
   "cell_type": "code",
   "execution_count": null,
   "metadata": {
    "collapsed": true
   },
   "outputs": [],
   "source": []
  }
 ],
 "metadata": {
  "kernelspec": {
   "display_name": "Python 3",
   "language": "python",
   "name": "python3"
  },
  "language_info": {
   "codemirror_mode": {
    "name": "ipython",
    "version": 3
   },
   "file_extension": ".py",
   "mimetype": "text/x-python",
   "name": "python",
   "nbconvert_exporter": "python",
   "pygments_lexer": "ipython3",
   "version": "3.6.1"
  }
 },
 "nbformat": 4,
 "nbformat_minor": 2
}
