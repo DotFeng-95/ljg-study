{
 "cells": [
  {
   "cell_type": "markdown",
   "metadata": {},
   "source": [
    "### 面向对象编程（OOP）\n",
    "+ 面向对象编程，变量和函数被聚合到一个通用的对象中，你可以在任何程序中使用通用的对象。OOP使用类来定义对象。一个类是对象所有特性的书面定义，使用变量和函数在程序代码中的定义。OOP的好处是，一旦你为一个对象创建了类，那么你可以在任何时候、任何程序使用同样的类。只要插入类的定义代码就可以使用了。一个OOP类有成员，这些成员有两类。  \n",
    "  * 属性-----类属性指的是对象的特性。一个类包含很多属性，每一个属性描述对象的一个不同的特性。  \n",
    "  * 方法-----方法与你所使用的Python标准的函数相同。方法使用类中的属性执行操作。\n",
    "  "
   ]
  },
  {
   "cell_type": "markdown",
   "metadata": {},
   "source": [
    "定义一个类  \n",
    "+ 在Python中定义一个类与定义一个函数并没有什么不同。要定义一个新的类，你可以使用class关键字，接着类的名称，然后是一个冒号，其次是任何应该包含在类中的语句。"
   ]
  },
  {
   "cell_type": "markdown",
   "metadata": {
    "collapsed": true
   },
   "source": [
    "+ 在你的程序中选择的类名必须是唯一的。有一点可能不是必须的，但是在Python中类名以大写字母开头，这在Python中是一个事实上的标准。类定义的语句部分定义了类中包含的任何属性和方法，就像函数一样,你必须对类语句进行缩进。当你完成了类的属性和方法的定义后，你只要将下一条语句放在左边边缘位置。\n"
   ]
  },
  {
   "cell_type": "code",
   "execution_count": 4,
   "metadata": {
    "collapsed": true
   },
   "outputs": [],
   "source": [
    "class Product:\n",
    "    pass\n"
   ]
  },
  {
   "cell_type": "markdown",
   "metadata": {},
   "source": [
    "+ 这个例子中所示的pass语句在Python中是特殊的语句。这个语句不会做什么事情，你通常会将pass语句当成一个占位符，方便添加内容。"
   ]
  },
  {
   "cell_type": "markdown",
   "metadata": {},
   "source": [
    "创建一个实例  \n",
    "+ 类定义定义了类，但是它没有把类拿来使用。要使用一个类，你必须初始化它，当你实例化一个类时，你将在程序中创建一个类的实例。每一个实例都代表一个对象出现。要实例化一个对象，你只需要调用它的名字，像这样："
   ]
  },
  {
   "cell_type": "code",
   "execution_count": 2,
   "metadata": {
    "collapsed": true
   },
   "outputs": [],
   "source": [
    "prod1 = Product()"
   ]
  },
  {
   "cell_type": "markdown",
   "metadata": {},
   "source": [
    "+ 变量prod1现在是Product类的一个实例。当你创建了类的实例后，你可以动态的定义属性，如下所示："
   ]
  },
  {
   "cell_type": "code",
   "execution_count": 6,
   "metadata": {},
   "outputs": [
    {
     "name": "stdout",
     "output_type": "stream",
     "text": [
      "carrot\n"
     ]
    }
   ],
   "source": [
    "prod1.description = 'carrot'\n",
    "print(prod1.description)"
   ]
  },
  {
   "cell_type": "markdown",
   "metadata": {},
   "source": [
    "+ 当一个实例在Python中是不同的对象。如果你创建Product类的第二个对象实例中定义的属性和你在第一个实例中定义的属性是不同的，如这个例子："
   ]
  },
  {
   "cell_type": "code",
   "execution_count": 9,
   "metadata": {},
   "outputs": [
    {
     "name": "stdout",
     "output_type": "stream",
     "text": [
      "eggplant\n",
      "carrot\n"
     ]
    }
   ],
   "source": [
    "prod2 = Product()\n",
    "prod2.description = 'eggplant'\n",
    "print(prod2.description)\n",
    "print(prod1.description)"
   ]
  },
  {
   "cell_type": "markdown",
   "metadata": {},
   "source": [
    "+ 现在你有Product类的两个不同的实例：prod1和prod2。每一个实例都有它自己的属性值。"
   ]
  },
  {
   "cell_type": "markdown",
   "metadata": {},
   "source": [
    "默认属性值  \n",
    "+ 使用类的实例动态的定义属性并不是一个好的编程实践。最好是在类的定义代码中定义类的属性，这样它们被作为类的一部分记录下来。你可以这样做，并且同时给所有属性设置默认值，想这样："
   ]
  },
  {
   "cell_type": "code",
   "execution_count": 2,
   "metadata": {
    "collapsed": true
   },
   "outputs": [],
   "source": [
    "class Product:\n",
    "    description = 'new product'\n",
    "    price = 1.00\n",
    "    inventory = 10"
   ]
  },
  {
   "cell_type": "code",
   "execution_count": 8,
   "metadata": {},
   "outputs": [
    {
     "name": "stdout",
     "output_type": "stream",
     "text": [
      "new product - price: $1.00, inventory:10\n"
     ]
    }
   ],
   "source": [
    "prod1 = Product()\n",
    "print('{0} - price: ${1:.2f}, inventory:{2:d}'.format(prod1.description, prod1.price, prod1.inventory))"
   ]
  },
  {
   "cell_type": "markdown",
   "metadata": {},
   "source": [
    "+ 当你创建了一个新的类实例，你可以替换任何已存在的值，如下面的例子所示："
   ]
  },
  {
   "cell_type": "code",
   "execution_count": 13,
   "metadata": {},
   "outputs": [
    {
     "name": "stdout",
     "output_type": "stream",
     "text": [
      "tomato - price: $1.00, inventory: 10\n"
     ]
    }
   ],
   "source": [
    "prod1.description = 'tomato'\n",
    "print('{0} - price: ${1:.2f}, inventory: {2:d}'.format(prod1.description, prod1.price, prod1.inventory))"
   ]
  },
  {
   "cell_type": "markdown",
   "metadata": {},
   "source": [
    "### 定义类方法"
   ]
  },
  {
   "cell_type": "markdown",
   "metadata": {
    "collapsed": true
   },
   "source": [
    "类除了包含大量属性外还有其他东西。你同样需要方法来处理属性。有三种不同的类方法可用：  \n",
    "+ 设值方法  \n",
    "+ 访问方法  \n",
    "+ 辅助方法\n"
   ]
  },
  {
   "cell_type": "markdown",
   "metadata": {},
   "source": [
    "设值方法：  \n",
    "+ 类设值方法是一些用来改变属性的值的函数。通常设值方法被叫做setter.   \n",
    "+ 你使用一个设置器方法来给一个类中的属性设置值。在Python中设置器设值方法的命名以set_开头，虽然这不是必须的，但是这是Python中某种标准的约定，如下例所示：\n"
   ]
  },
  {
   "cell_type": "code",
   "execution_count": 14,
   "metadata": {
    "collapsed": true
   },
   "outputs": [],
   "source": [
    "def set_description(self, desc):\n",
    "    self.__description = desc"
   ]
  },
  {
   "cell_type": "markdown",
   "metadata": {},
   "source": [
    "+ set_方法使用两个参数。第一个参数是一个特殊值叫做self。这个self参数将类指向这个对象的当前的实例。这个参数对于所有的类方法是必须的，作为第一个参数。  \n",
    "+ 第二个参数顶一个值用来设置实例的属性。注意在方法语句中赋值语句,然而在Python中另一个事实上标准是，在属性名前使用两个下划线来表示它不能在类定义外使用。  \n",
    "+ 提示：私有属性：有些面向对象编程语言提供了一种特性叫做私有属性。你可以在类内部使用私有属性，但是在类外部不能使用。Python没有提供私有属性；任何你定义的属性都可以被任意访问。两个下划线的命名约定只是显示提供你要在类的外部使用相应属性。  \n",
    "+ 在属性赋值中使用的self关键字是用来引用当前类实例的属性的。\n",
    "+ 你也可以在设值方法中包含对属性的计算。"
   ]
  },
  {
   "cell_type": "code",
   "execution_count": 15,
   "metadata": {},
   "outputs": [],
   "source": [
    "def buy_Product(self, amount):\n",
    "    self.__inventory = self.__inventory - amount"
   ]
  },
  {
   "cell_type": "markdown",
   "metadata": {
    "collapsed": true
   },
   "source": [
    "访问方法\n",
    "+ 访问方法是你用来访问定义在类中的属性的方法。创建特殊的方法来检索当前的属性帮助你创建一个标准，告诉其他程序如何使用你的类对象。这些方法通常被叫做getter,因为它们检索属性的值。getter访问方法的命名应该以get_开头，然后跟属性名，如下所示："
   ]
  },
  {
   "cell_type": "code",
   "execution_count": 16,
   "metadata": {
    "collapsed": true
   },
   "outputs": [],
   "source": [
    "def get_description(self):\n",
    "    return self.__description"
   ]
  },
  {
   "cell_type": "markdown",
   "metadata": {},
   "source": [
    "+ 这是它所有的内容了。访问方法不是太复杂：它们只是返回属性的当前值。请注意，尽管没有数据被传递给访问方法，但是它仍然需要self关键字作为一个参数。Python使用这个关键字在类的内部引用类的实例。"
   ]
  },
  {
   "cell_type": "code",
   "execution_count": 22,
   "metadata": {},
   "outputs": [
    {
     "name": "stdout",
     "output_type": "stream",
     "text": [
      "carrot - price: $1.00, inventory:10\n"
     ]
    }
   ],
   "source": [
    "class Product:\n",
    "    def set_description(self, desc):\n",
    "        self.__description = desc\n",
    "        \n",
    "    def get_description(self):\n",
    "        return self.__description\n",
    "    \n",
    "    def set_price(self, price):\n",
    "        self.__price = price\n",
    "        \n",
    "    def get_price(self):\n",
    "        return self.__price\n",
    "    \n",
    "    def set_inventory(self, inventory):\n",
    "        self.__inventory = inventory\n",
    "        \n",
    "    def get_inventory(self):\n",
    "        return self.__inventory\n",
    "        \n",
    "prod1 = Product()\n",
    "prod1.set_description('carrot')\n",
    "prod1.set_price(1.00)\n",
    "prod1.set_inventory(10)\n",
    "print('{0} - price: ${1:.2f}, inventory:{2:d}'.format(prod1.get_description(), prod1.get_price(), prod1.get_inventory()))"
   ]
  },
  {
   "cell_type": "code",
   "execution_count": null,
   "metadata": {
    "collapsed": true
   },
   "outputs": [],
   "source": []
  }
 ],
 "metadata": {
  "kernelspec": {
   "display_name": "Python 3",
   "language": "python",
   "name": "python3"
  },
  "language_info": {
   "codemirror_mode": {
    "name": "ipython",
    "version": 3
   },
   "file_extension": ".py",
   "mimetype": "text/x-python",
   "name": "python",
   "nbconvert_exporter": "python",
   "pygments_lexer": "ipython3",
   "version": "3.6.1"
  }
 },
 "nbformat": 4,
 "nbformat_minor": 2
}
