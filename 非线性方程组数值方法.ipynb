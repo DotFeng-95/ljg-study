{
 "cells": [
  {
   "cell_type": "markdown",
   "metadata": {},
   "source": [
    "一、非线性方程组"
   ]
  },
  {
   "cell_type": "markdown",
   "metadata": {},
   "source": [
    "非线性方程组的一般形式为：\n",
    "$$\n",
    "\\boldsymbol{F(x)}=\n",
    "\\begin{pmatrix}\n",
    "F_1(x)\\\\\n",
    "\\vdots\\\\\n",
    "F_m(x)\n",
    "\\end{pmatrix}\n",
    "=0\\qquad(1)\n",
    "$$\n",
    "其中\n",
    "$$\n",
    "\\boldsymbol{x}=\n",
    "\\begin{pmatrix}\n",
    "x_1\\\\\n",
    "\\vdots\\\\\n",
    "x_n\n",
    "\\end{pmatrix}\n",
    "\\in \\mathbb{R}^n,\\quad\n",
    "\\boldsymbol{0}=\n",
    "\\begin{pmatrix}\n",
    "0\\\\\n",
    "\\vdots\\\\\n",
    "0\n",
    "\\end{pmatrix}\n",
    "\\in \\mathbb{R}^m\n",
    "$$\n",
    "\n",
    "$F_i(x)$是$x$的实值函数，且至少有一个不是线性的,$m$和$n$是正整数.\n",
    "\n",
    "若存在$x^*\\in\\mathbb{R}^n$,使得$F(x^*)=0$,则称$x^*$为非线性方程组(1)的解\n",
    "\n",
    "非线性方程组问题可以转化为非线性最小二乘问题\n",
    "\n",
    "$$\n",
    "\\min\\limits_{x\\in\\mathbb{R}^n}\\frac{1}{2}\\left\\|\\boldsymbol{F(x)}\\right\\|_2^2\\qquad(2)\n",
    "$$\n",
    "\n",
    "非线性方程组(1)有解当且仅当极小化问题(2)的极小值为零."
   ]
  },
  {
   "cell_type": "markdown",
   "metadata": {},
   "source": [
    "1.牛顿法\n",
    "\n",
    "牛顿法的基本思想是利用函数的线性展开，在第$k$次迭代，用线性方程组\n",
    "\n",
    "$$\n",
    "L_k(x)=F_k+J_k(x-x_k)=0\\qquad(3)\n",
    "$$\n",
    "\n",
    "近似方程组，从而得到第$k+1$个近似解\n",
    "\n",
    "$$\n",
    "x_{k+1}=x_k-J_k^{-1}F_k\n",
    "$$\n",
    "\n",
    "牛顿法要求$J_k$非奇异，且要计算$J_k$的逆,当$n$很大时会出现计算上的困难.实际计算时,一般求解线性方程组\n",
    "\n",
    "$$\n",
    "J_kd=-F_k\\qquad(4)\n",
    "$$\n",
    "\n",
    "得到牛顿步$d_k$"
   ]
  },
  {
   "cell_type": "markdown",
   "metadata": {},
   "source": [
    "算法1\n",
    "\n",
    "步1 给出$x_1\\in\\mathbb{R}^n$;$k:=1$.  \n",
    "\n",
    "步2 如果$F_k=0$,则停；求解线性方程组(3),得到牛顿步$d_k$.  \n",
    "\n",
    "步3 令$x_{k+1}:=x_k+d_k$,$k:=k+1$,转步2."
   ]
  },
  {
   "cell_type": "markdown",
   "metadata": {
    "collapsed": true
   },
   "source": [
    "2.非精确牛顿法\n",
    "\n",
    "第$k$次迭代，选取参数$\\eta_k\\in[0,1)$,非精确求解线性方程组\n",
    "\n",
    "$$\n",
    "F_k+J_kd=0\\qquad(5)\n",
    "$$\n",
    "\n",
    "得到试探步$d_k$.设\n",
    "\n",
    "$$\n",
    "F_k+J_kd=r_k\\qquad(6)\n",
    "$$\n",
    "\n",
    "其中$\\frac{\\left\\|r_k\\right\\|}{\\left\\|F_k\\right\\|}\\le\\eta_k$.这里$\\eta_k$反映了求解(4)的精确程度.当$\\eta_k\\equiv0$时，非精确牛顿法即为牛顿法."
   ]
  },
  {
   "cell_type": "markdown",
   "metadata": {},
   "source": [
    "算法2\n",
    "\n",
    "步1 给出$x_1\\in\\mathbb{R}^n$;$k:=1$.  \n",
    "\n",
    "步2 如果$F_k=0$,则停；非精确求解(5),得到牛顿步$d_k$.  \n",
    "\n",
    "步3 令$x_{k+1}:=x_k+d_k$,$k:=k+1$,转步2."
   ]
  },
  {
   "cell_type": "markdown",
   "metadata": {},
   "source": [
    "4.高斯—牛顿法\n",
    "\n",
    "高斯—牛顿法是求解非线性最小二乘问题的基本方法.\n",
    "\n",
    "每次迭代求解线性最小二乘问题：\n",
    "\n",
    "$$\n",
    "\\min\\limits_{d\\in\\mathbb{R}^n}\\frac{1}{2}\\left\\|F_k+J_kd\\right\\|^2.\n",
    "$$\n",
    "\n",
    "高斯—牛顿法的迭代公式为：\n",
    "\n",
    "$$\n",
    "x_{k+1}=x_k-(J_k^TJ_k)^{-1}J_k^TF_k\n",
    "$$"
   ]
  },
  {
   "cell_type": "markdown",
   "metadata": {},
   "source": [
    "算法4\n",
    "\n",
    "步1 给出$x_1\\in\\mathbb{R}^n$;$k:=1$.  \n",
    "\n",
    "步2 如果$F_k=0$,则停；求解\n",
    "\n",
    "$$\n",
    "(J_k^TJ_k)d=-J_k^TF_k,\n",
    "$$\n",
    "\n",
    "得到牛顿步$d_k$.  \n",
    "\n",
    "步3 令$x_{k+1}:=x_k+d_k$,$k:=k+1$,转步2."
   ]
  },
  {
   "cell_type": "markdown",
   "metadata": {},
   "source": [
    "5.Levenberg-Marquardt方法\n",
    "\n",
    "为克服$J_k^TJ_k$奇异或坏条件所带来的困难,Levenberg和Marquardt引入了非负参数$\\lambda_k$,每次迭代计算\n",
    "\n",
    "$$\n",
    "x_{k+1}=x_k-(J_k^TJ_k+\\lambda_kI)^{-1}J_k^TF_k\n",
    "$$"
   ]
  },
  {
   "cell_type": "markdown",
   "metadata": {},
   "source": [
    "算法5\n",
    "\n",
    "步1 给出$x_1\\in\\mathbb{R}^n$;$k:=1$.  \n",
    "\n",
    "步2 如果$F_k=0$,则停；求解\n",
    "\n",
    "$$\n",
    "(J_k^TJ_k+\\lambda_kI)d=-J_k^TF_k,\\quad\\lambda_k=\\left\\|F_k\\right\\|\n",
    "$$\n",
    "\n",
    "得到牛顿步$d_k$.  \n",
    "\n",
    "步3 令$x_{k+1}:=x_k+d_k$,$k:=k+1$,转步2."
   ]
  },
  {
   "cell_type": "markdown",
   "metadata": {},
   "source": [
    "6.线搜索算法"
   ]
  }
 ],
 "metadata": {
  "kernelspec": {
   "display_name": "Python 3",
   "language": "python",
   "name": "python3"
  },
  "language_info": {
   "codemirror_mode": {
    "name": "ipython",
    "version": 3
   },
   "file_extension": ".py",
   "mimetype": "text/x-python",
   "name": "python",
   "nbconvert_exporter": "python",
   "pygments_lexer": "ipython3",
   "version": "3.6.1"
  }
 },
 "nbformat": 4,
 "nbformat_minor": 2
}
