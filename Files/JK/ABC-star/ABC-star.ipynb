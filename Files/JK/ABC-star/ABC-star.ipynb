{
 "cells": [
  {
   "cell_type": "markdown",
   "metadata": {},
   "source": [
    "## 问题目标: 使用曲面线性有限元方法实现球面上的ABC-star 数值模拟"
   ]
  },
  {
   "cell_type": "markdown",
   "metadata": {},
   "source": [
    "### ABC-Star模型"
   ]
  },
  {
   "cell_type": "markdown",
   "metadata": {},
   "source": [
    "### 哈密顿量"
   ]
  },
  {
   "cell_type": "markdown",
   "metadata": {},
   "source": [
    "$$\n",
    "H = \\frac{n}{V}\\int\\mathrm d r [\\chi_{AB} N \\rho_A\\rho_B+\\chi_{BC} N \\rho_B\\rho_C+\\chi_{AC} N \\rho_A\\rho_C-w_A\\rho_A-w_B\\rho_B-w_C\\rho_C-w_{+}(1-\\rho_A-\\rho_B-\\rho_C)]-nlog Q[w_A,w_B,w_C]\n",
    "$$"
   ]
  },
  {
   "cell_type": "markdown",
   "metadata": {},
   "source": [
    "外场的作用力"
   ]
  },
  {
   "cell_type": "markdown",
   "metadata": {},
   "source": [
    "$$\n",
    "\\begin{aligned}\n",
    "w_A &= u_+ -\\sigma_{1A} u_1 -\\sigma_{2A}u_2\\\\\n",
    "w_B &= u_+ -\\sigma_{1B} u_1 -\\sigma_{2B}u_2\\\\\n",
    "w_C &= u_+ -\\sigma_{1C} u_1 -\\sigma_{2C}u_2\n",
    "\\end{aligned}\n",
    "$$"
   ]
  },
  {
   "cell_type": "markdown",
   "metadata": {},
   "source": [
    "其中, 相关的参数\n",
    "\n",
    "$$\n",
    "\\begin{aligned}\n",
    "\\sigma_{1A} &= \\frac{1}{3}, \\sigma_{1B} = -\\frac{2}{3},\\sigma_{1C} = \\frac{1}{3}\\\\\n",
    "\\sigma_{2A}&=\\frac{1+\\alpha}{3}, \\sigma_{2B} =-\\frac{1-2\\alpha}{3},\\sigma_{2C}=\\frac{\\alpha-2}{3}\n",
    "\\end{aligned}\n",
    "$$\n",
    "\n",
    "还需要已知 $u_{+}$, $u_{1}$, $u_{2}$．\n",
    "其中 $u_{+}=0$, 根据下面的 ＳCFT 方程求解 $u_{1}$, $u_2$."
   ]
  },
  {
   "cell_type": "markdown",
   "metadata": {},
   "source": [
    "$$\n",
    "\\begin{aligned}\n",
    "\\rho_A+\\rho_B+\\rho_C-1=0\\\\\n",
    "\\frac{1}{2N\\xi_1}u_1 -\\sigma_{1A}\\rho_A-\\sigma_{1B}\\rho_B-\\sigma_{1C}\\rho_C = 0\\\\\n",
    "\\frac{1}{2N\\xi_2}u_2 -\\sigma_{2A}\\rho_A-\\sigma_{2B}\\rho_B-\\sigma_{2C}\\rho_C = 0\n",
    "\\end{aligned}\n",
    "$$"
   ]
  },
  {
   "cell_type": "markdown",
   "metadata": {},
   "source": [
    "则\n",
    "\n",
    "$$\n",
    "u_1 =2N\\xi_1(\\sigma_{1A}\\rho_A+\\sigma_{1B}\\rho_B+\\sigma_{1C}\\rho_C)\\\\\n",
    "u_2 =2N\\xi_２(\\sigma_{2A}\\rho_A-\\sigma_{2B}\\rho_B-\\sigma_{2C}\\rho_C)\n",
    "$$\n",
    "\n",
    "其中 $\\xi_1=\\frac{-\\Delta}{4\\chi_{AC}}$, $\\xi_2=\\chi_{AC}$.\n",
    "\n",
    "\n",
    "$$\n",
    "\\Delta = \\chi_{AB}^2+\\chi_{BC}^2+\\chi_{AC}^2-2\\chi_{AB}\\chi_{AC}-2\\chi_{BC}\\chi_{AC}-2\\chi_{AB}\\chi_{BC}\n",
    "$$"
   ]
  },
  {
   "cell_type": "markdown",
   "metadata": {},
   "source": [
    "根据准备的 $w_A$, $w_B$, $w_C$. 可以计算传播子方程. 求出 $\\rho_A$, $\\rho_B$, $\\rho_C$, 和单链配分函数 $Q$."
   ]
  },
  {
   "cell_type": "markdown",
   "metadata": {},
   "source": [
    "ABC-star 传播子方程\n",
    "\n",
    "$$\\begin{aligned}\n",
    "\\frac{\\partial}{\\partial s}q_{\\alpha}(\\mathbf r,s)&=\\nabla_{\\mathbf S}^2q_{\\alpha}(\\mathbf r,s)-w_{\\alpha}q_{\\alpha}(\\mathbf r,s), q_{\\alpha}(\\mathbf r,s)=1,s\\in[0,f_{\\alpha}]\\\\\n",
    "\\frac{\\partial}{\\partial s}q_{\\alpha}^{+}(\\mathbf r,s)&=\\nabla_{\\mathbf S}^2q_{\\alpha}^{+}(\\mathbf r,s)-w_{\\alpha}q_{\\alpha}^{+}(\\mathbf r,s), q_{\\alpha}^{+}(\\mathbf r,s)=q_{K}(\\mathbf r, f_K),s\\in[0,f_{\\alpha}]\\\\\n",
    "\\end{aligned}\n",
    "$$"
   ]
  },
  {
   "cell_type": "markdown",
   "metadata": {},
   "source": [
    "$$\n",
    "\\rho_A+\\rho_B+\\rho_C=1\n",
    "$$\n",
    "\n",
    "$$\n",
    "\\begin{aligned}\n",
    "\\rho_A &= \\frac{1}{Q}\\int_{0}^{f_A}\\mathrm d s q_A(\\mathbf r,s)q_A^{+}(\\mathbf r,f_A-s)\\\\\n",
    "\\rho_B &= \\frac{1}{Q}\\int_{0}^{f_B}\\mathrm d s q_B(\\mathbf r,s)q_B^{+}(\\mathbf r,f_B-s)\\\\\n",
    "\\rho_C &= \\frac{1}{Q}\\int_{0}^{f_C}\\mathrm d s q_C(\\mathbf r,s)q_C^{+}(\\mathbf r,f_C-s)\\\\\n",
    "Q &= \\frac{1}{V}\\int\\mathrm d r q_{\\alpha}(\\mathbf r,s)q_{\\alpha}^{+}(\\mathbf r,f_{\\alpha}-s)\n",
    "\\end{aligned}\n",
    "$$\n",
    "\n",
    "其中 $\\alpha 是 A,B,C$,"
   ]
  },
  {
   "cell_type": "markdown",
   "metadata": {},
   "source": [
    "根据计算的 $\\rho_A$, $\\rho_B$, $\\rho_C$, 重新计算外场 $w_A$, $w_B$, $w_C$.\n",
    "\n",
    "计算 $u_1$, $u_2$."
   ]
  },
  {
   "cell_type": "markdown",
   "metadata": {},
   "source": [
    "\\begin{align}\n",
    "w_A&=\\chi_{AB} N_C\\rho_B(\\mathbf r)+\\chi_{AC} N_C \\rho_C(\\mathbf r) + w_{+}\\\\\n",
    "w_B&=\\chi_{AB} N_C\\rho_A(\\mathbf r)+\\chi_{BC} N_C \\rho_C(\\mathbf r) + w_{+}\\\\\n",
    "w_C&=\\chi_{AC} N_C\\rho_A(\\mathbf r)+\\chi_{BC} N_C \\rho_B(\\mathbf r) + w_{+}\\\\\n",
    "\\end{align}"
   ]
  },
  {
   "cell_type": "markdown",
   "metadata": {},
   "source": [
    "$$\n",
    "w_{+}=\\frac{\\sum_{\\alpha}w_{\\alpha,j}^{k}X_{\\alpha}}{\\sum_{\\alpha X_{\\alpha}}}\n",
    "$$\n",
    "\n",
    "其中, \n",
    "\n",
    "\\begin{align}\n",
    "X_A &= \\chi{BC}(\\chi AB+\\chi AC-\\chi BC)\\\\\n",
    "X_B &= \\chi{AC}(\\chi BC+\\chi AB-\\chi AC)\\\\\n",
    "X_C &= \\chi{AB}(\\chi AC+\\chi BC-\\chi AB)\\\\\n",
    "\\end{align}"
   ]
  },
  {
   "cell_type": "markdown",
   "metadata": {},
   "source": [
    "迭代格式, 用来计算更新后面不断迭代计算的外场作用迭代求解 PDE."
   ]
  },
  {
   "cell_type": "markdown",
   "metadata": {},
   "source": [
    "$$\n",
    "w_{\\alpha,j}^{k+1}=w_{\\alpha,j}^{k}+\\lambda(\\frac{\\delta H}{\\delta\\rho_{\\alpha}})_j^{k}\n",
    "$$"
   ]
  },
  {
   "cell_type": "markdown",
   "metadata": {},
   "source": [
    "${\\color{Blue}{\\frac{\\delta H}{\\delta\\rho_{\\alpha}}}}$, 对 哈密顿量的 H 关于 $\\rho_A$, $\\rho_B$, $\\rho_C$, 求变分."
   ]
  }
 ],
 "metadata": {
  "kernelspec": {
   "display_name": "Python 3",
   "language": "python",
   "name": "python3"
  },
  "language_info": {
   "codemirror_mode": {
    "name": "ipython",
    "version": 3
   },
   "file_extension": ".py",
   "mimetype": "text/x-python",
   "name": "python",
   "nbconvert_exporter": "python",
   "pygments_lexer": "ipython3",
   "version": "3.6.5"
  }
 },
 "nbformat": 4,
 "nbformat_minor": 2
}
